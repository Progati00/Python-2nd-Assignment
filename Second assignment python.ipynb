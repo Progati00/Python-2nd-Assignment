{
 "cells": [
  {
   "cell_type": "markdown",
   "id": "9704e6c2",
   "metadata": {},
   "source": [
    "# Question 1 : Discuss string slicing and provide examples."
   ]
  },
  {
   "cell_type": "markdown",
   "id": "f6f7b96d",
   "metadata": {},
   "source": [
    "## Answer 1 : \n",
    "\n",
    "Strings in python are indexed with first character at index 0, second character at 1, and so on..Negative indices starting at -1 to the last character, -2 to the second last and so on..\n",
    "\n",
    "The basic syntax for slicing a string :\n",
    "string[start:stop:step]\n",
    "\n",
    "'start' indicates the index from where the slice starts. \n",
    "'stop' indicates the index where the slice ends. \n",
    "'step' arguments can be used to skip characters."
   ]
  },
  {
   "cell_type": "code",
   "execution_count": 2,
   "id": "75a09a97",
   "metadata": {},
   "outputs": [
    {
     "data": {
      "text/plain": [
       "'Hell'"
      ]
     },
     "execution_count": 2,
     "metadata": {},
     "output_type": "execute_result"
    }
   ],
   "source": [
    "a = \"Hello World!\"\n",
    "a[0:4]   # Slices from the start to the 4th character (index 4, but doesn't include it)"
   ]
  },
  {
   "cell_type": "code",
   "execution_count": 3,
   "id": "c0134ff4",
   "metadata": {},
   "outputs": [
    {
     "data": {
      "text/plain": [
       "'ne'"
      ]
     },
     "execution_count": 3,
     "metadata": {},
     "output_type": "execute_result"
    }
   ],
   "source": [
    "b = \"Intelligent girl!\"\n",
    "b[1:5:2]   # Starts at index 1, stop at index 5, step 2"
   ]
  },
  {
   "cell_type": "markdown",
   "id": "73fdca42",
   "metadata": {},
   "source": [
    "Omitting start and stop : Omitting start will default it to 0 and omitting stop will default it to the length of the string."
   ]
  },
  {
   "cell_type": "code",
   "execution_count": 4,
   "id": "93262cba",
   "metadata": {},
   "outputs": [
    {
     "data": {
      "text/plain": [
       "'Intelligent girl!'"
      ]
     },
     "execution_count": 4,
     "metadata": {},
     "output_type": "execute_result"
    }
   ],
   "source": [
    "b = \"Intelligent girl!\"\n",
    "b[:]   # Extracting the entire string"
   ]
  },
  {
   "cell_type": "code",
   "execution_count": 5,
   "id": "9e55725c",
   "metadata": {},
   "outputs": [
    {
     "data": {
      "text/plain": [
       "'Intelligent'"
      ]
     },
     "execution_count": 5,
     "metadata": {},
     "output_type": "execute_result"
    }
   ],
   "source": [
    "b[:11]   #Extracting from the beginning to index 11 but doesn't include it"
   ]
  },
  {
   "cell_type": "code",
   "execution_count": 6,
   "id": "7af38eeb",
   "metadata": {},
   "outputs": [
    {
     "data": {
      "text/plain": [
       "' girl!'"
      ]
     },
     "execution_count": 6,
     "metadata": {},
     "output_type": "execute_result"
    }
   ],
   "source": [
    "b[11:]   #Extracting from the index 11 to the end"
   ]
  },
  {
   "cell_type": "markdown",
   "id": "432c9270",
   "metadata": {},
   "source": [
    "Negative indexing : Negative indices can be used to slice from the end of the string."
   ]
  },
  {
   "cell_type": "code",
   "execution_count": 7,
   "id": "1fb01b37",
   "metadata": {},
   "outputs": [
    {
     "data": {
      "text/plain": [
       "'girl'"
      ]
     },
     "execution_count": 7,
     "metadata": {},
     "output_type": "execute_result"
    }
   ],
   "source": [
    "b = \"Intelligent girl!\"\n",
    "b[-5:-1]   # Extracting 'girl' using negative indexing"
   ]
  },
  {
   "cell_type": "code",
   "execution_count": 9,
   "id": "55ba220b",
   "metadata": {},
   "outputs": [
    {
     "data": {
      "text/plain": [
       "'!'"
      ]
     },
     "execution_count": 9,
     "metadata": {},
     "output_type": "execute_result"
    }
   ],
   "source": [
    "b[-1:]   # Extracting the last character"
   ]
  },
  {
   "cell_type": "code",
   "execution_count": 10,
   "id": "ba98cdaa",
   "metadata": {},
   "outputs": [
    {
     "data": {
      "text/plain": [
       "'Itlietgr!'"
      ]
     },
     "execution_count": 10,
     "metadata": {},
     "output_type": "execute_result"
    }
   ],
   "source": [
    "b[::2]   # Extracting every second character (step argument)"
   ]
  },
  {
   "cell_type": "code",
   "execution_count": 11,
   "id": "916a32eb",
   "metadata": {},
   "outputs": [
    {
     "data": {
      "text/plain": [
       "'!lrig tnegilletnI'"
      ]
     },
     "execution_count": 11,
     "metadata": {},
     "output_type": "execute_result"
    }
   ],
   "source": [
    "b[::-1]   # Reversing the string using a negative step"
   ]
  },
  {
   "cell_type": "markdown",
   "id": "a54288ec",
   "metadata": {},
   "source": [
    "# Question 2 : Explain the key features of lists in Python.\n",
    "\n",
    "## Answer 2 :\n",
    "\n",
    "The key features are :\n",
    "\n",
    "1. Lists are ordered collection of elements that can be of any data type. \n",
    "2. It can store heterogeneous data types (integers, strings, floats or any other lists).\n",
    "3. Lists are mutable, that is we can change, add or remove elements after list has been created.\n",
    "4. We can access elements by their index or slice them.\n",
    "5. We can add or remove elements dynamically as lists do not have a fixed size.\n",
    "6. Lists have wide range of built-in functions, eg: len(), sort(), count(), remove(), pop()\n",
    "7. Lists are iterable, we can loop through the elements using for loop or other iteration methods.\n",
    "8. Lists can contain other lists, creating a nested structure."
   ]
  },
  {
   "cell_type": "code",
   "execution_count": 12,
   "id": "6b69f5b8",
   "metadata": {},
   "outputs": [
    {
     "data": {
      "text/plain": [
       "[1, 2, 2.3, True, 'Apple', [3, 9, 0]]"
      ]
     },
     "execution_count": 12,
     "metadata": {},
     "output_type": "execute_result"
    }
   ],
   "source": [
    "l = [1,2,2.3,True,'Apple',[3,9,0]]  # Heterogeneous elements\n",
    "l"
   ]
  },
  {
   "cell_type": "code",
   "execution_count": 13,
   "id": "37c57e32",
   "metadata": {},
   "outputs": [
    {
     "data": {
      "text/plain": [
       "[1, 2, 2.3, True, 'Banana', [3, 9, 0]]"
      ]
     },
     "execution_count": 13,
     "metadata": {},
     "output_type": "execute_result"
    }
   ],
   "source": [
    "l[4] = 'Banana'  # Changing 'Apple' to 'Banana' (Mutable feature)\n",
    "l"
   ]
  },
  {
   "cell_type": "code",
   "execution_count": 14,
   "id": "25e27c17",
   "metadata": {},
   "outputs": [
    {
     "name": "stdout",
     "output_type": "stream",
     "text": [
      "[1, 2, 3, 4, 5]\n"
     ]
    }
   ],
   "source": [
    "num = [1,2,3,4]\n",
    "num.append(5)   # Adding an element\n",
    "print(num)"
   ]
  },
  {
   "cell_type": "code",
   "execution_count": 16,
   "id": "961270af",
   "metadata": {},
   "outputs": [
    {
     "data": {
      "text/plain": [
       "[1, 2, 3, 4, 5, 8, 9, 6]"
      ]
     },
     "execution_count": 16,
     "metadata": {},
     "output_type": "execute_result"
    }
   ],
   "source": [
    "num = [1,2,3,4]\n",
    "NUM = [5,8,9,6]\n",
    "num.extend(NUM)   # Num get extended to num \n",
    "num"
   ]
  },
  {
   "cell_type": "code",
   "execution_count": 17,
   "id": "cc35dea5",
   "metadata": {},
   "outputs": [
    {
     "data": {
      "text/plain": [
       "[2, 3, 4, 5]"
      ]
     },
     "execution_count": 17,
     "metadata": {},
     "output_type": "execute_result"
    }
   ],
   "source": [
    "num = [1,2,3,4,5,8,9,6]\n",
    "num[1:5]   # Starts at index 1, the slice stops just before index 5, it includes elements up to index 4"
   ]
  },
  {
   "cell_type": "code",
   "execution_count": 18,
   "id": "f915476d",
   "metadata": {},
   "outputs": [
    {
     "data": {
      "text/plain": [
       "'k'"
      ]
     },
     "execution_count": 18,
     "metadata": {},
     "output_type": "execute_result"
    }
   ],
   "source": [
    "name = [['a','c'],['d','k'],[1.8,'j']]\n",
    "name[1][1]   # Accessing nested list"
   ]
  },
  {
   "cell_type": "code",
   "execution_count": 19,
   "id": "9bb04974",
   "metadata": {},
   "outputs": [
    {
     "name": "stdout",
     "output_type": "stream",
     "text": [
      "[1, 2, 3, 4, 5, 6, 8, 9]\n"
     ]
    }
   ],
   "source": [
    "num = [1,2,3,4,5,8,9,6]\n",
    "num.sort()   # Sorts the list in ascending order\n",
    "print(num)"
   ]
  },
  {
   "cell_type": "code",
   "execution_count": 20,
   "id": "70eca27a",
   "metadata": {},
   "outputs": [
    {
     "name": "stdout",
     "output_type": "stream",
     "text": [
      "potato\n",
      "brinjal\n",
      "pumpkin\n",
      "tomato\n",
      "onion\n",
      "egg\n"
     ]
    }
   ],
   "source": [
    "bucket_list = ['potato','brinjal','pumpkin','tomato','onion','egg']\n",
    "for bucket_list in ['potato','brinjal','pumpkin','tomato','onion','egg']:   \n",
    "    print(bucket_list)"
   ]
  },
  {
   "cell_type": "markdown",
   "id": "9975279c",
   "metadata": {},
   "source": [
    "# Question 3 :  Describe how to access, modify, and delete elements in a list with examples.\n",
    "\n",
    "## Answer 3 :\n",
    "\n",
    "Accessing elements in a list : We can access elements of a list using indexing and slicing.\n",
    "    \n",
    "Indexing :  Lists are zero-indexed,that is the first element has an index of 0, the second element has an index of 1, and so on.. You can also use negative indexing to access elements from the end of the list."
   ]
  },
  {
   "cell_type": "code",
   "execution_count": 21,
   "id": "264a44ac",
   "metadata": {},
   "outputs": [
    {
     "data": {
      "text/plain": [
       "'pumpkin'"
      ]
     },
     "execution_count": 21,
     "metadata": {},
     "output_type": "execute_result"
    }
   ],
   "source": [
    "bag = ['potato','brinjal','pumpkin','tomato','onion','egg']\n",
    "bag[2]"
   ]
  },
  {
   "cell_type": "code",
   "execution_count": 22,
   "id": "fc58fe53",
   "metadata": {},
   "outputs": [
    {
     "data": {
      "text/plain": [
       "'onion'"
      ]
     },
     "execution_count": 22,
     "metadata": {},
     "output_type": "execute_result"
    }
   ],
   "source": [
    "bag[-2]"
   ]
  },
  {
   "cell_type": "markdown",
   "id": "931d06be",
   "metadata": {},
   "source": [
    "Slicing : Accessing multiple elements using slicing."
   ]
  },
  {
   "cell_type": "code",
   "execution_count": 23,
   "id": "f5afcf33",
   "metadata": {},
   "outputs": [
    {
     "data": {
      "text/plain": [
       "['brinjal', 'pumpkin', 'tomato', 'onion']"
      ]
     },
     "execution_count": 23,
     "metadata": {},
     "output_type": "execute_result"
    }
   ],
   "source": [
    "bag = ['potato','brinjal','pumpkin','tomato','onion','egg']\n",
    "bag[1:5]"
   ]
  },
  {
   "cell_type": "markdown",
   "id": "c494442b",
   "metadata": {},
   "source": [
    "Modifying elements in a list : Lists are mutable that means we can change and modify the value of elements after the list is created.\n",
    "\n",
    "We can modify any element by assigning a new value to a specific index."
   ]
  },
  {
   "cell_type": "code",
   "execution_count": 24,
   "id": "09487389",
   "metadata": {},
   "outputs": [
    {
     "name": "stdout",
     "output_type": "stream",
     "text": [
      "['potato', 'milk', 'pumpkin', 'tomato', 'onion', 'egg']\n"
     ]
    }
   ],
   "source": [
    "bag = ['potato','brinjal','pumpkin','tomato','onion','egg']\n",
    "bag[1] = 'milk'   # Modifying the second element\n",
    "print(bag)"
   ]
  },
  {
   "cell_type": "code",
   "execution_count": 25,
   "id": "53defd4a",
   "metadata": {},
   "outputs": [
    {
     "name": "stdout",
     "output_type": "stream",
     "text": [
      "['potato', 'carrot', 'juice', 'tomato', 'onion', 'egg']\n"
     ]
    }
   ],
   "source": [
    "bag = ['potato','brinjal','pumpkin','tomato','onion','egg']\n",
    "bag[1:3] = ['carrot','juice']   # Modifying multiple elements\n",
    "print(bag)"
   ]
  },
  {
   "cell_type": "markdown",
   "id": "2c9bdd81",
   "metadata": {},
   "source": [
    "Deleting elements in a list : \n",
    "    \n",
    "Using del keyword :"
   ]
  },
  {
   "cell_type": "code",
   "execution_count": 26,
   "id": "5b1404ba",
   "metadata": {},
   "outputs": [
    {
     "name": "stdout",
     "output_type": "stream",
     "text": [
      "['potato', 'pumpkin', 'tomato', 'onion', 'egg']\n"
     ]
    }
   ],
   "source": [
    "bag = ['potato','brinjal','pumpkin','tomato','onion','egg']\n",
    "del bag[1]   # Deleting the second element\n",
    "print(bag)"
   ]
  },
  {
   "cell_type": "code",
   "execution_count": 27,
   "id": "d880edd5",
   "metadata": {},
   "outputs": [
    {
     "name": "stdout",
     "output_type": "stream",
     "text": [
      "['potato', 'onion', 'egg']\n"
     ]
    }
   ],
   "source": [
    "bag = ['potato','brinjal','pumpkin','tomato','onion','egg']\n",
    "del bag[1:4]   # Deleting slice of elements\n",
    "print(bag)"
   ]
  },
  {
   "cell_type": "markdown",
   "id": "05ee2e99",
   "metadata": {},
   "source": [
    "Using remove() to delete the first occurance of a specified value."
   ]
  },
  {
   "cell_type": "code",
   "execution_count": 28,
   "id": "e8f3f920",
   "metadata": {},
   "outputs": [
    {
     "name": "stdout",
     "output_type": "stream",
     "text": [
      "['b', 'k', 'u', 'a']\n"
     ]
    }
   ],
   "source": [
    "name = ['a','b','k','u','a']\n",
    "name.remove('a')   # Removing the first 'a'\n",
    "print(name)"
   ]
  },
  {
   "cell_type": "markdown",
   "id": "4d58dd54",
   "metadata": {},
   "source": [
    "Using pop() to remove last element of the list."
   ]
  },
  {
   "cell_type": "code",
   "execution_count": 29,
   "id": "99b291d0",
   "metadata": {},
   "outputs": [
    {
     "name": "stdout",
     "output_type": "stream",
     "text": [
      "[10, 20, 50, 30, 90]\n"
     ]
    }
   ],
   "source": [
    "num = [10,20,50,30,90,70]\n",
    "num.pop()\n",
    "print(num)"
   ]
  },
  {
   "cell_type": "markdown",
   "id": "a7e70187",
   "metadata": {},
   "source": [
    "Using clear() to remove all elements from the list."
   ]
  },
  {
   "cell_type": "code",
   "execution_count": 30,
   "id": "5cae3487",
   "metadata": {},
   "outputs": [
    {
     "name": "stdout",
     "output_type": "stream",
     "text": [
      "[]\n"
     ]
    }
   ],
   "source": [
    "num = [10,20,50,30,90,70]\n",
    "num.clear()   # Clearing the list\n",
    "print(num)"
   ]
  },
  {
   "cell_type": "markdown",
   "id": "32ec0e52",
   "metadata": {},
   "source": [
    "# Question 4 :  Compare and contrast tuples and lists with examples.\n",
    "\n",
    "## Answer 4 :\n",
    "\n",
    "1. Both Tuples and Lists are ordered collection of elements. But Lists are mutable , i.e items can be added, removed or modified. Tuples are immutable, means once they are created, their contents cannot be changed."
   ]
  },
  {
   "cell_type": "code",
   "execution_count": 31,
   "id": "9ce8be77",
   "metadata": {},
   "outputs": [
    {
     "name": "stdout",
     "output_type": "stream",
     "text": [
      "[5, 2, 3, 4]\n"
     ]
    }
   ],
   "source": [
    "list = [1,2,3,4]\n",
    "list[0] = 5   # Modifying the first element\n",
    "print(list)"
   ]
  },
  {
   "cell_type": "code",
   "execution_count": 32,
   "id": "6bc90265",
   "metadata": {},
   "outputs": [
    {
     "ename": "TypeError",
     "evalue": "'tuple' object does not support item assignment",
     "output_type": "error",
     "traceback": [
      "\u001b[1;31m---------------------------------------------------------------------------\u001b[0m",
      "\u001b[1;31mTypeError\u001b[0m                                 Traceback (most recent call last)",
      "Cell \u001b[1;32mIn[32], line 2\u001b[0m\n\u001b[0;32m      1\u001b[0m \u001b[38;5;28mtuple\u001b[39m \u001b[38;5;241m=\u001b[39m (\u001b[38;5;241m1\u001b[39m,\u001b[38;5;241m2\u001b[39m,\u001b[38;5;241m3\u001b[39m,\u001b[38;5;241m4\u001b[39m)\n\u001b[1;32m----> 2\u001b[0m \u001b[38;5;28mtuple\u001b[39m[\u001b[38;5;241m0\u001b[39m] \u001b[38;5;241m=\u001b[39m \u001b[38;5;241m5\u001b[39m   \u001b[38;5;66;03m# It will raise an error\u001b[39;00m\n\u001b[0;32m      3\u001b[0m \u001b[38;5;28mprint\u001b[39m(\u001b[38;5;28mtuple\u001b[39m)\n",
      "\u001b[1;31mTypeError\u001b[0m: 'tuple' object does not support item assignment"
     ]
    }
   ],
   "source": [
    "tuple = (1,2,3,4)\n",
    "tuple[0] = 5   # It will raise an error\n",
    "print(tuple)"
   ]
  },
  {
   "cell_type": "markdown",
   "id": "327495ae",
   "metadata": {},
   "source": [
    "2. Lists have more built-in methods than tuples. It supports operations like append, sort, remove. Tuples have fewer methods due to their immutability."
   ]
  },
  {
   "cell_type": "code",
   "execution_count": 33,
   "id": "9fdff3ed",
   "metadata": {},
   "outputs": [
    {
     "name": "stdout",
     "output_type": "stream",
     "text": [
      "[1, 2, 3, 4, 5]\n"
     ]
    }
   ],
   "source": [
    "list = [1,2,3,4]\n",
    "list.append(5)   # Adds an element to the list\n",
    "print(list)"
   ]
  },
  {
   "cell_type": "code",
   "execution_count": 35,
   "id": "87e4393b",
   "metadata": {},
   "outputs": [
    {
     "name": "stdout",
     "output_type": "stream",
     "text": [
      "[1, 2, 4]\n"
     ]
    }
   ],
   "source": [
    "list = [1,2,3,4]\n",
    "list.remove(3)   # Removes the element 3\n",
    "print(list)"
   ]
  },
  {
   "cell_type": "code",
   "execution_count": 36,
   "id": "9a571f3c",
   "metadata": {},
   "outputs": [
    {
     "name": "stdout",
     "output_type": "stream",
     "text": [
      "3\n"
     ]
    }
   ],
   "source": [
    "tuple = (1,4,2,3,4,5,9,4)\n",
    "print(tuple.count(4))   # Counts the number of occurance of 4"
   ]
  },
  {
   "cell_type": "code",
   "execution_count": 37,
   "id": "e376488c",
   "metadata": {},
   "outputs": [
    {
     "name": "stdout",
     "output_type": "stream",
     "text": [
      "2\n"
     ]
    }
   ],
   "source": [
    "tuple = (1,4,2,3,4,5,9,4)\n",
    "print(tuple.index(2))   # Finds the index of the element 2"
   ]
  },
  {
   "cell_type": "markdown",
   "id": "82e8a5fb",
   "metadata": {},
   "source": [
    "3. Lists are created using square brackets []. Tuples are created using parentheses ()."
   ]
  },
  {
   "cell_type": "code",
   "execution_count": 38,
   "id": "d4f03650",
   "metadata": {},
   "outputs": [
    {
     "name": "stdout",
     "output_type": "stream",
     "text": [
      "[1, 2, 3]\n",
      "(1, 2, 3)\n"
     ]
    }
   ],
   "source": [
    "list = [1,2,3]\n",
    "tuple = (1,2,3)\n",
    "print(list)\n",
    "print(tuple)"
   ]
  },
  {
   "cell_type": "markdown",
   "id": "2c62809a",
   "metadata": {},
   "source": [
    "4. Lists are used when you have a collection of items that might change over time. Tuples are used to represent fixed collection of items where data should not change."
   ]
  },
  {
   "cell_type": "markdown",
   "id": "33f62b8c",
   "metadata": {},
   "source": [
    "5. Both Lists and Tuples support indexing, which allows you to access individual elements by their position. \n",
    "   Both support slicing, which allows you to extract a subset of elements."
   ]
  },
  {
   "cell_type": "code",
   "execution_count": 39,
   "id": "873360b2",
   "metadata": {},
   "outputs": [
    {
     "name": "stdout",
     "output_type": "stream",
     "text": [
      "[2, 3, 4]\n",
      "[1, 3, 5, 7]\n"
     ]
    }
   ],
   "source": [
    "l = [1,2,3,4,5,6,7]\n",
    "print(l[1:4])   # Elements from index 1 to 3\n",
    "print(l[::2])   # Every second element"
   ]
  },
  {
   "cell_type": "code",
   "execution_count": 40,
   "id": "651eaadb",
   "metadata": {},
   "outputs": [
    {
     "name": "stdout",
     "output_type": "stream",
     "text": [
      "(1, 2, 3)\n",
      "(1, 3, 5, 7)\n"
     ]
    }
   ],
   "source": [
    "t = (1,2,3,4,5,6,7)\n",
    "print(t[:3])\n",
    "print(t[::2])"
   ]
  },
  {
   "cell_type": "markdown",
   "id": "44c35b44",
   "metadata": {},
   "source": [
    "6. Tuples are generally faster than lists when it comes to iteration and access because of their immutability and fixed size.  Lists are slower because they are mutable and require additional memory handling for operations like resizing."
   ]
  },
  {
   "cell_type": "markdown",
   "id": "c358f1d3",
   "metadata": {},
   "source": [
    "# Question 5 :  Describe the key features of sets and provide examples of their use.\n",
    "\n",
    "## Answer 5 :\n",
    "\n",
    "Key features are :\n",
    "\n",
    "1. Sets are unordered collection of unique elements. Duplicate elements are removed. \n",
    "2. You can add or remove elements from a set. Sets are mutable. \n",
    "3. There is no concepts of indexing and slicing as sets are unordered and unique.\n",
    "4. Sets support mathematical operation such as union, intersection, difference and symmetric difference."
   ]
  },
  {
   "cell_type": "code",
   "execution_count": 41,
   "id": "c9298288",
   "metadata": {},
   "outputs": [
    {
     "name": "stdout",
     "output_type": "stream",
     "text": [
      "{'milk', 'apple', 'banana'}\n"
     ]
    }
   ],
   "source": [
    "# creating a set\n",
    "bag = {'apple','milk','banana','milk'}  # Duplicate item will be removed\n",
    "print(bag)"
   ]
  },
  {
   "cell_type": "code",
   "execution_count": 42,
   "id": "8b2cb83f",
   "metadata": {},
   "outputs": [
    {
     "name": "stdout",
     "output_type": "stream",
     "text": [
      "{'tomato', 'milk', 'apple', 'banana'}\n"
     ]
    }
   ],
   "source": [
    "# adding an element to the set \n",
    "bag = {'apple','milk','banana','milk'}\n",
    "bag.add('tomato')\n",
    "print(bag)"
   ]
  },
  {
   "cell_type": "code",
   "execution_count": 43,
   "id": "7da77224",
   "metadata": {},
   "outputs": [
    {
     "name": "stdout",
     "output_type": "stream",
     "text": [
      "{'apple', 'banana'}\n"
     ]
    }
   ],
   "source": [
    "# removing element from the set\n",
    "bag = {'apple','milk','banana','milk'}\n",
    "bag.remove('milk')\n",
    "print(bag)"
   ]
  },
  {
   "cell_type": "code",
   "execution_count": 44,
   "id": "535aa58b",
   "metadata": {},
   "outputs": [
    {
     "name": "stdout",
     "output_type": "stream",
     "text": [
      "True\n"
     ]
    }
   ],
   "source": [
    "# Check if an element exists in the set\n",
    "bag = {'apple','milk','banana','milk'}\n",
    "print('milk' in bag)"
   ]
  },
  {
   "cell_type": "code",
   "execution_count": 45,
   "id": "f054b10d",
   "metadata": {},
   "outputs": [
    {
     "name": "stdout",
     "output_type": "stream",
     "text": [
      "1\n",
      "2\n",
      "3\n",
      "4\n"
     ]
    }
   ],
   "source": [
    "s = {1,2,3,4}\n",
    "for i in s:\n",
    "    print(i)   # Iterating through the set using for loop"
   ]
  },
  {
   "cell_type": "code",
   "execution_count": 46,
   "id": "f454a288",
   "metadata": {},
   "outputs": [
    {
     "name": "stdout",
     "output_type": "stream",
     "text": [
      "{1, 2, 3, 4, 5, 6}\n"
     ]
    }
   ],
   "source": [
    "s1 = {1,2,3,4}\n",
    "s2 = {3,4,5,6}\n",
    "# Union : combines elements from 2 sets excluding duplicates.\n",
    "print(s1 | s2)"
   ]
  },
  {
   "cell_type": "code",
   "execution_count": 47,
   "id": "a48b155f",
   "metadata": {},
   "outputs": [
    {
     "name": "stdout",
     "output_type": "stream",
     "text": [
      "{3, 4}\n"
     ]
    }
   ],
   "source": [
    "s1 = {1,2,3,4}\n",
    "s2 = {3,4,5,6}\n",
    "# Intersection : only common elements between sets.\n",
    "print(s1 & s2)"
   ]
  },
  {
   "cell_type": "code",
   "execution_count": 48,
   "id": "f0f72c65",
   "metadata": {},
   "outputs": [
    {
     "name": "stdout",
     "output_type": "stream",
     "text": [
      "{1, 2}\n"
     ]
    }
   ],
   "source": [
    "s1 = {1,2,3,4}\n",
    "s2 = {3,4,5,6}\n",
    "# Difference : Elements in s1 not in s2.\n",
    "print(s1 - s2)"
   ]
  },
  {
   "cell_type": "code",
   "execution_count": 49,
   "id": "1d34e9d4",
   "metadata": {},
   "outputs": [
    {
     "name": "stdout",
     "output_type": "stream",
     "text": [
      "{1, 2, 5, 6}\n"
     ]
    }
   ],
   "source": [
    "s1 = {1,2,3,4}\n",
    "s2 = {3,4,5,6}\n",
    "# Symmetric Difference : elements in either set but not in both.\n",
    "print(s1 ^ s2)"
   ]
  },
  {
   "cell_type": "markdown",
   "id": "5f6ffe2b",
   "metadata": {},
   "source": [
    "# Question 6 :  Discuss the use cases of tuples and sets in Python programming.\n",
    "\n",
    "\n",
    "## Answer 6 :\n",
    "\n",
    "Use cases of Tuples :\n",
    "    \n",
    "1. Tuples are immutable, once they are created, their contents cannot be changed.\n",
    "2. Tuples are ordered collection of elements.\n",
    "3. Tuples are suitable for storing collections of related but different data types.\n",
    "4. You can concatenate 2 or more tuples to form a new one without modifying the original data.\n",
    "5. Tuples are more memory efficient than lists. For large datasets , tuples can save memory and improve performance during iteration.\n",
    "6. Another use case of tuples is swapping variables without needing a temporary variable."
   ]
  },
  {
   "cell_type": "code",
   "execution_count": 50,
   "id": "c4d4b310",
   "metadata": {},
   "outputs": [
    {
     "data": {
      "text/plain": [
       "(('a', 'b'), ('c', 'd'))"
      ]
     },
     "execution_count": 50,
     "metadata": {},
     "output_type": "execute_result"
    }
   ],
   "source": [
    "box1 = ('a','b')\n",
    "box2 = ('c','d')\n",
    "choc_box = (box1,box2)   # Tuples in tuple\n",
    "choc_box"
   ]
  },
  {
   "cell_type": "code",
   "execution_count": 52,
   "id": "85a3e38b",
   "metadata": {},
   "outputs": [
    {
     "name": "stdout",
     "output_type": "stream",
     "text": [
      "(1, 2, 3, 4, 5, 6)\n"
     ]
    }
   ],
   "source": [
    "t1 = (1,2,3)\n",
    "t2 = (4,5,6)\n",
    "t3 = t1 + t2   # Combining tuples\n",
    "print(t3)"
   ]
  },
  {
   "cell_type": "code",
   "execution_count": 53,
   "id": "1a253baf",
   "metadata": {},
   "outputs": [
    {
     "name": "stdout",
     "output_type": "stream",
     "text": [
      "4 2\n"
     ]
    }
   ],
   "source": [
    "a = 2\n",
    "b = 4\n",
    "a , b = b , a   # Swapping values\n",
    "print(a , b)"
   ]
  },
  {
   "cell_type": "markdown",
   "id": "355560ac",
   "metadata": {},
   "source": [
    "Use cases of Sets :\n",
    "    \n",
    "1. Sets are unordered collection of unique elements. Duplicate elements are removed.\n",
    "2. You can add or remove elements from a set using methods like add(), discard(), remove() . Sets are mutable. \n",
    "3. Sets support mathematical operation such as union, intersection, difference and symmetric difference.\n",
    "4. update() method adds multiple elements from another set or iterable, modifying the original set.\n",
    "5. Frozenset is the immutable version of set, which cannot be changed after creation.\n",
    "6. Set comprehension allows you to construct sets with expressions in a concise way."
   ]
  },
  {
   "cell_type": "code",
   "execution_count": 54,
   "id": "76f6be29",
   "metadata": {},
   "outputs": [
    {
     "name": "stdout",
     "output_type": "stream",
     "text": [
      "{'tomato', 'milk', 'apple', 'banana'}\n"
     ]
    }
   ],
   "source": [
    "# adding an element to the set \n",
    "bag = {'apple','milk','banana','milk'}\n",
    "bag.add('tomato')\n",
    "print(bag)"
   ]
  },
  {
   "cell_type": "code",
   "execution_count": 55,
   "id": "5890e892",
   "metadata": {},
   "outputs": [
    {
     "name": "stdout",
     "output_type": "stream",
     "text": [
      "{'apple', 'banana'}\n"
     ]
    }
   ],
   "source": [
    "# removing element from the set\n",
    "bag = {'apple','milk','banana','milk'}\n",
    "bag.remove('milk')\n",
    "print(bag)"
   ]
  },
  {
   "cell_type": "code",
   "execution_count": 56,
   "id": "9a18b3f8",
   "metadata": {},
   "outputs": [
    {
     "name": "stdout",
     "output_type": "stream",
     "text": [
      "{1, 2, 3, 4, 5, 6}\n"
     ]
    }
   ],
   "source": [
    "s1 = {1,2,3,4}\n",
    "s2 = {3,4,5,6}\n",
    "# Union : combines elements from 2 sets excluding duplicates.\n",
    "print(s1 | s2)"
   ]
  },
  {
   "cell_type": "code",
   "execution_count": 57,
   "id": "08746e6c",
   "metadata": {},
   "outputs": [
    {
     "name": "stdout",
     "output_type": "stream",
     "text": [
      "{3, 4}\n"
     ]
    }
   ],
   "source": [
    "s1 = {1,2,3,4}\n",
    "s2 = {3,4,5,6}\n",
    "# Intersection : only common elements between sets.\n",
    "print(s1 & s2)"
   ]
  },
  {
   "cell_type": "code",
   "execution_count": 58,
   "id": "01a381e2",
   "metadata": {},
   "outputs": [
    {
     "name": "stdout",
     "output_type": "stream",
     "text": [
      "{1, 2}\n"
     ]
    }
   ],
   "source": [
    "s1 = {1,2,3,4}\n",
    "s2 = {3,4,5,6}\n",
    "# Difference : Elements in s1 not in s2.\n",
    "print(s1 - s2)"
   ]
  },
  {
   "cell_type": "code",
   "execution_count": 59,
   "id": "394cb215",
   "metadata": {},
   "outputs": [
    {
     "name": "stdout",
     "output_type": "stream",
     "text": [
      "{1, 2, 5, 6}\n"
     ]
    }
   ],
   "source": [
    "s1 = {1,2,3,4}\n",
    "s2 = {3,4,5,6}\n",
    "# Symmetric Difference : elements in either set but not in both.\n",
    "print(s1 ^ s2)"
   ]
  },
  {
   "cell_type": "code",
   "execution_count": 61,
   "id": "14625c91",
   "metadata": {},
   "outputs": [
    {
     "data": {
      "text/plain": [
       "{1, 2, 3, 4, 6}"
      ]
     },
     "execution_count": 61,
     "metadata": {},
     "output_type": "execute_result"
    }
   ],
   "source": [
    "s = {1,2,6}\n",
    "s.update([2,3,4,6])   # Set updating with update()\n",
    "s"
   ]
  },
  {
   "cell_type": "code",
   "execution_count": 63,
   "id": "6414d248",
   "metadata": {},
   "outputs": [
    {
     "ename": "AttributeError",
     "evalue": "'frozenset' object has no attribute 'add'",
     "output_type": "error",
     "traceback": [
      "\u001b[1;31m---------------------------------------------------------------------------\u001b[0m",
      "\u001b[1;31mAttributeError\u001b[0m                            Traceback (most recent call last)",
      "Cell \u001b[1;32mIn[63], line 3\u001b[0m\n\u001b[0;32m      1\u001b[0m \u001b[38;5;66;03m# Frozenset\u001b[39;00m\n\u001b[0;32m      2\u001b[0m f \u001b[38;5;241m=\u001b[39m \u001b[38;5;28mfrozenset\u001b[39m([\u001b[38;5;241m1\u001b[39m,\u001b[38;5;241m2\u001b[39m,\u001b[38;5;241m3\u001b[39m,\u001b[38;5;241m4\u001b[39m,\u001b[38;5;241m5\u001b[39m])\n\u001b[1;32m----> 3\u001b[0m f\u001b[38;5;241m.\u001b[39madd(\u001b[38;5;241m9\u001b[39m)\n",
      "\u001b[1;31mAttributeError\u001b[0m: 'frozenset' object has no attribute 'add'"
     ]
    }
   ],
   "source": [
    "# Frozenset\n",
    "f = frozenset([1,2,3,4,5])\n",
    "f.add(9)    # Raises an error (immutable)"
   ]
  },
  {
   "cell_type": "code",
   "execution_count": 65,
   "id": "1c16bd92",
   "metadata": {},
   "outputs": [
    {
     "name": "stdout",
     "output_type": "stream",
     "text": [
      "{1, 4, 9, 16, 25}\n"
     ]
    }
   ],
   "source": [
    "num = [1,2,3,4,5,]\n",
    "squared_set = {x ** 2 for x in num}   # Set comprehension\n",
    "print(squared_set)"
   ]
  },
  {
   "cell_type": "markdown",
   "id": "bbcbed77",
   "metadata": {},
   "source": [
    "# Question 7 :  Describe how to add, modify, and delete items in a dictionary with examples.\n",
    "\n",
    "## Answer 7 :\n",
    "\n",
    "Adding items to a dictionary :\n",
    "\n",
    "1. You can add new key-value pairs to a dictionary by simply assigning a value to a new key using the assignment operator = ."
   ]
  },
  {
   "cell_type": "code",
   "execution_count": 66,
   "id": "e06a8319",
   "metadata": {},
   "outputs": [
    {
     "name": "stdout",
     "output_type": "stream",
     "text": [
      "{'name': 'Ana', 'age': 14, 'class': 9, 'location': 'Kolkata'}\n"
     ]
    }
   ],
   "source": [
    "d = {'name':'Ana','age':14,'class':9}\n",
    "d['location'] = 'Kolkata'   # adding a new key-value pair\n",
    "print(d)"
   ]
  },
  {
   "cell_type": "markdown",
   "id": "5767aea4",
   "metadata": {},
   "source": [
    "\n",
    "Modifying items in a dictionary :\n",
    "    \n",
    "1. To modify an existing item in a dictionary, simply assign a new value to an existing key. If the key exists, its value will be overwritten.\n",
    "2. update() method in Python dictionaries allows you to add or update multiple key-value pairs at once. It can take either another dictionary or an iterable of key-value pairs as its argument."
   ]
  },
  {
   "cell_type": "code",
   "execution_count": 67,
   "id": "d8e718d0",
   "metadata": {},
   "outputs": [
    {
     "name": "stdout",
     "output_type": "stream",
     "text": [
      "{'name': 'Ana', 'age': 14, 'class': 8}\n"
     ]
    }
   ],
   "source": [
    "d = {'name':'Ana','age':14,'class':9}\n",
    "d['class'] = 8   # modifying an existing key-value pair\n",
    "print(d)"
   ]
  },
  {
   "cell_type": "code",
   "execution_count": 68,
   "id": "1eca031f",
   "metadata": {},
   "outputs": [
    {
     "name": "stdout",
     "output_type": "stream",
     "text": [
      "{'name': 'Ana', 'age': 14, 'class': 9, 'location': 'Mumbai', 'contact': 1234}\n"
     ]
    }
   ],
   "source": [
    "d = {'name':'Ana','age':14,'class':9}\n",
    "d.update({'location':'Mumbai','contact':1234})   # adding new key-value pairs using update()\n",
    "print(d)"
   ]
  },
  {
   "cell_type": "markdown",
   "id": "1eea7c0b",
   "metadata": {},
   "source": [
    "Deleting items from a dictionary :\n",
    "    \n",
    "1. del keyword removes a key-value pair based on the key. If the key doesn't exist, it raises a KeyError.\n",
    "2. pop() method removes the specified key and returns its value. If the key doesn’t exist, you can provide a default value, otherwise it raises a KeyError.\n",
    "3. clear() method removes all items from the dictionary, leaving it empty."
   ]
  },
  {
   "cell_type": "code",
   "execution_count": 69,
   "id": "e408722c",
   "metadata": {},
   "outputs": [
    {
     "name": "stdout",
     "output_type": "stream",
     "text": [
      "{'name': 'Ana', 'age': 14}\n"
     ]
    }
   ],
   "source": [
    "d = {'name':'Ana','age':14,'class':9}\n",
    "del d['class']   # deleting an item using del()\n",
    "print(d)"
   ]
  },
  {
   "cell_type": "code",
   "execution_count": 70,
   "id": "2b05b475",
   "metadata": {},
   "outputs": [
    {
     "name": "stdout",
     "output_type": "stream",
     "text": [
      "9\n",
      "{'name': 'Ana', 'age': 14}\n"
     ]
    }
   ],
   "source": [
    "d = {'name':'Ana','age':14,'class':9}\n",
    "new_d = d.pop('class')   # removing and returning the value of a key\n",
    "print(new_d)\n",
    "print(d)"
   ]
  },
  {
   "cell_type": "code",
   "execution_count": 71,
   "id": "2e5e046c",
   "metadata": {},
   "outputs": [
    {
     "name": "stdout",
     "output_type": "stream",
     "text": [
      "{}\n"
     ]
    }
   ],
   "source": [
    "d = {'name':'Ana','age':14,'class':9}\n",
    "d.clear()   # clearing all items\n",
    "print(d)"
   ]
  },
  {
   "cell_type": "markdown",
   "id": "60bdc465",
   "metadata": {},
   "source": [
    "# Question 8 :  Discuss the importance of dictionary keys being immutable and provide examples.\n",
    "\n",
    "## Answer 8 :\n",
    "\n",
    " Dictionary keys need to be immutable because their role is to uniquely identify each value in a dictionary. \n",
    "\n",
    "1. If keys could change, it would be hard to keep track of whoch value they point to.\n",
    "2. Dictionaries use hashing to quickly find values. \n",
    "3. You can use the zip function to create a dictionary from two lists: one for keys and one for values. The zip function pairs elements from each list together.\n",
    "4. Integers, floats, and booleans are immutable and can be used as dictionary keys."
   ]
  },
  {
   "cell_type": "code",
   "execution_count": 72,
   "id": "ad4e38e0",
   "metadata": {},
   "outputs": [
    {
     "name": "stdout",
     "output_type": "stream",
     "text": [
      "{'name': 'Ana', 'age': 14, 'class': 9}\n",
      "{(1, 2): 'a', (3, 4): 'b'}\n"
     ]
    }
   ],
   "source": [
    "d = {'name':'Ana','age':14,'class':9}\n",
    "# 'name', 'age', 'class' are immutable strings and served as valid dictionary keys.\n",
    "print(d)\n",
    "\n",
    "v = {(1,2):'a' , (3,4):'b'}\n",
    "# tuples are immutable as long as they contain only immutable elements.\n",
    "print(v)"
   ]
  },
  {
   "cell_type": "code",
   "execution_count": 73,
   "id": "90253244",
   "metadata": {},
   "outputs": [
    {
     "ename": "TypeError",
     "evalue": "unhashable type: 'list'",
     "output_type": "error",
     "traceback": [
      "\u001b[1;31m---------------------------------------------------------------------------\u001b[0m",
      "\u001b[1;31mTypeError\u001b[0m                                 Traceback (most recent call last)",
      "Cell \u001b[1;32mIn[73], line 1\u001b[0m\n\u001b[1;32m----> 1\u001b[0m l \u001b[38;5;241m=\u001b[39m {[\u001b[38;5;241m1\u001b[39m,\u001b[38;5;241m2\u001b[39m]:\u001b[38;5;124m'\u001b[39m\u001b[38;5;124ma\u001b[39m\u001b[38;5;124m'\u001b[39m , [\u001b[38;5;241m3\u001b[39m,\u001b[38;5;241m4\u001b[39m]:\u001b[38;5;124m'\u001b[39m\u001b[38;5;124mb\u001b[39m\u001b[38;5;124m'\u001b[39m}\n\u001b[0;32m      2\u001b[0m \u001b[38;5;66;03m# lists are mutable so they cannot be used as dictionary keys.\u001b[39;00m\n\u001b[0;32m      3\u001b[0m \u001b[38;5;28mprint\u001b[39m(l)\n",
      "\u001b[1;31mTypeError\u001b[0m: unhashable type: 'list'"
     ]
    }
   ],
   "source": [
    "l = {[1,2]:'a' , [3,4]:'b'}\n",
    "# lists are mutable so they cannot be used as dictionary keys.\n",
    "print(l)   # this will throw an error."
   ]
  },
  {
   "cell_type": "code",
   "execution_count": 74,
   "id": "da214f83",
   "metadata": {},
   "outputs": [
    {
     "name": "stdout",
     "output_type": "stream",
     "text": [
      "{1: 'one', 2: 'two'}\n"
     ]
    }
   ],
   "source": [
    "g = {1:'one' , 2:'two'}\n",
    "# 1 and 2 are immutable and work as dictionary keys.\n",
    "print(g)"
   ]
  },
  {
   "cell_type": "code",
   "execution_count": 75,
   "id": "e48ec8ff",
   "metadata": {},
   "outputs": [
    {
     "ename": "TypeError",
     "evalue": "unhashable type: 'dict'",
     "output_type": "error",
     "traceback": [
      "\u001b[1;31m---------------------------------------------------------------------------\u001b[0m",
      "\u001b[1;31mTypeError\u001b[0m                                 Traceback (most recent call last)",
      "Cell \u001b[1;32mIn[75], line 1\u001b[0m\n\u001b[1;32m----> 1\u001b[0m n \u001b[38;5;241m=\u001b[39m {{\u001b[38;5;241m1\u001b[39m:\u001b[38;5;124m'\u001b[39m\u001b[38;5;124mone\u001b[39m\u001b[38;5;124m'\u001b[39m}:\u001b[38;5;124m'\u001b[39m\u001b[38;5;124manother\u001b[39m\u001b[38;5;124m'\u001b[39m}\n\u001b[0;32m      2\u001b[0m \u001b[38;5;66;03m# {1:'one'} is mutable dictionary so cannot be used as key.\u001b[39;00m\n\u001b[0;32m      3\u001b[0m \u001b[38;5;28mprint\u001b[39m(n)\n",
      "\u001b[1;31mTypeError\u001b[0m: unhashable type: 'dict'"
     ]
    }
   ],
   "source": [
    "n = {{1:'one'}:'another'}\n",
    "# {1:'one'} is mutable dictionary so cannot be used as key.\n",
    "print(n)   # this will throw an error."
   ]
  },
  {
   "cell_type": "code",
   "execution_count": 76,
   "id": "b21a8100",
   "metadata": {},
   "outputs": [
    {
     "name": "stdout",
     "output_type": "stream",
     "text": [
      "{True: 'yes', False: 'no'}\n"
     ]
    }
   ],
   "source": [
    "h = {True:'yes' , False:'no'}\n",
    "# Booleans (True and False) are immutable and valid dictionary keys.\n",
    "print(h)"
   ]
  },
  {
   "cell_type": "code",
   "execution_count": 77,
   "id": "3e16af59",
   "metadata": {},
   "outputs": [
    {
     "name": "stdout",
     "output_type": "stream",
     "text": [
      "{'name': 'Ana', 'age': '13', 'location': 'Mumbai'}\n"
     ]
    }
   ],
   "source": [
    "keys = ['name','age','location']\n",
    "values = ['Ana','13','Mumbai']\n",
    "# Using zip and dict to create a new dictionary.\n",
    "d = dict(zip(keys, values))\n",
    "print(d)"
   ]
  },
  {
   "cell_type": "code",
   "execution_count": null,
   "id": "7f8b4e7c",
   "metadata": {},
   "outputs": [],
   "source": []
  }
 ],
 "metadata": {
  "kernelspec": {
   "display_name": "Python 3 (ipykernel)",
   "language": "python",
   "name": "python3"
  },
  "language_info": {
   "codemirror_mode": {
    "name": "ipython",
    "version": 3
   },
   "file_extension": ".py",
   "mimetype": "text/x-python",
   "name": "python",
   "nbconvert_exporter": "python",
   "pygments_lexer": "ipython3",
   "version": "3.11.3"
  }
 },
 "nbformat": 4,
 "nbformat_minor": 5
}
